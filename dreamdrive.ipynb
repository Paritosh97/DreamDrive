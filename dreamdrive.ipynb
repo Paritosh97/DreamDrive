{
  "cells": [
    {
      "cell_type": "code",
      "execution_count": null,
      "metadata": {
        "id": "uVVUIEC6lGuD"
      },
      "outputs": [],
      "source": [
        "# Clone the repo\n",
        "!git clone --recurse-submodules https://github.com/Paritosh97/DreamDrive.git\n",
        "%cd DreamDrive"
      ]
    },
    {
      "cell_type": "code",
      "execution_count": null,
      "metadata": {
        "id": "waYALxKTlLGj"
      },
      "outputs": [],
      "source": [
        "!apt-get update && apt-get install -y tzdata && \\\n",
        "dpkg-reconfigure --frontend noninteractive tzdata && \\\n",
        "apt-get install -y python3-pip git wget build-essential cmake libglm-dev libx11-6 libglapi-mesa libdrm2 \\\n",
        "libxcb-glx0 libx11-xcb1 libxcb-dri2-0 libxext6 libxfixes3 libxxf86vm1 libxcb-shm0 curl ca-certificates\n",
        "\n",
        "!pip install --no-cache-dir --upgrade pip"
      ]
    },
    {
      "cell_type": "code",
      "execution_count": null,
      "metadata": {
        "id": "-BvMdYhzlNHf"
      },
      "outputs": [],
      "source": [
        "# 3. Setup Python environment\n",
        "!pip install torch torchvision torchaudio\n",
        "!pip install -r requirements.txt\n",
        "!python setup.py develop\n"
      ]
    },
    {
      "cell_type": "code",
      "execution_count": null,
      "metadata": {
        "id": "RlRPTC7xlO33"
      },
      "outputs": [],
      "source": [
        "!pip install --no-cache-dir -r requirements.txt\n",
        "\n",
        "%cd submodules/diff-gaussian-rasterization\n",
        "!python setup.py install\n",
        "%cd ../../\n",
        "\n",
        "%cd submodules/dust3r\n",
        "!mkdir -p checkpoints\n",
        "!wget https://download.europe.naverlabs.com/ComputerVision/DUSt3R/DUSt3R_ViTLarge_BaseDecoder_512_dpt.pth -P checkpoints/\n",
        "!python setup.py develop\n",
        "%cd croco/models/curope\n",
        "!python setup.py build_ext --inplace\n",
        "%cd ../../\n",
        "\n",
        "%cd submodules/segment-anything-2\n",
        "!pip install --no-cache-dir -e .\n",
        "%cd checkpoints\n",
        "!sh ./download_ckpts.sh\n",
        "%cd ..\n",
        "!python setup.py develop\n",
        "%cd ../..\n",
        "\n",
        "%cd submodules/simple-knn\n",
        "!pip install --no-cache-dir -e .\n",
        "%cd ../../\n",
        "\n",
        "%cd submodules/vista\n",
        "!pip install --no-cache-dir -r requirements.txt\n",
        "!pip install --no-cache-dir -e git+https://github.com/Stability-AI/datapipelines.git@main\n",
        "!python setup.py develop\n",
        "!mkdir ckpts\n",
        "%cd ckpts\n",
        "!wget https://huggingface.co/stabilityai/stable-video-diffusion-img2vid-xt/resolve/main/svd_xt.safetensors\n",
        "!wget https://huggingface.co/OpenDriveLab/Vista/resolve/main/vista.safetensors\n",
        "cd ../../../\n",
        "\n",
        "!python setup.py develop"
      ]
    },
    {
      "cell_type": "code",
      "execution_count": null,
      "metadata": {
        "id": "jhh2UbW-lSn-"
      },
      "outputs": [],
      "source": [
        "# Generate video frames and feature maps\n",
        "!python dreamdrive/diffusion/sample.py"
      ]
    },
    {
      "cell_type": "code",
      "source": [
        "!sh scripts/run_ours_v2.sh"
      ],
      "metadata": {
        "id": "voY7tnOBwoc5"
      },
      "execution_count": null,
      "outputs": []
    }
  ],
  "metadata": {
    "accelerator": "GPU",
    "colab": {
      "gpuType": "T4",
      "provenance": []
    },
    "kernelspec": {
      "display_name": "Python 3",
      "name": "python3"
    },
    "language_info": {
      "name": "python"
    }
  },
  "nbformat": 4,
  "nbformat_minor": 0
}